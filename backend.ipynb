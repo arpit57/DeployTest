{
 "cells": [
  {
   "cell_type": "code",
   "execution_count": 1,
   "id": "d2721155-b523-4fd3-a386-10f7a3866b2c",
   "metadata": {
    "tags": []
   },
   "outputs": [],
   "source": [
    "\n",
    "import requests\n",
    "from bs4 import BeautifulSoup\n",
    "# import streamlit as st\n",
    "from transformers import pipeline\n",
    "import re\n",
    "import pymongo\n",
    "from pymongo import MongoClient\n",
    "\n",
    "\n",
    "\n",
    "# specify the URL of the news website to scrape\n",
    "url = \"https://www.theverge.com/\"\n",
    "\n",
    "# send a GET request to the website URL and store the response\n",
    "response = requests.get(url)\n",
    "\n",
    "# parse the HTML content of the response using BeautifulSoup\n",
    "soup = BeautifulSoup(response.content, \"html.parser\")\n",
    "\n",
    "# find all the news article links on the website\n",
    "article_links = soup.find_all(\"a\", class_=\"group-hover:shadow-underline-franklin\")\n",
    "\n",
    "l = []\n",
    "links = []\n",
    "\n",
    "# loop through each article link and scrape the article text\n",
    "for link in article_links:\n",
    "    # extract the URL of the article\n",
    "    article_url = link[\"href\"]\n",
    "    \n",
    "    # send a GET request to the article URL and store the response\n",
    "    article_response = requests.get(url + article_url)\n",
    "    links.append(url + article_url)\n",
    "\n",
    "#     # parse the HTML content of the article using BeautifulSoup\n",
    "    article_soup = BeautifulSoup(article_response.content, \"html.parser\")\n",
    "    \n",
    "#     # find the main text content of the article and print it\n",
    "    article_text = article_soup.find(\"div\", class_=\"clearfix\").get_text()\n",
    "    l.append(article_text)\n",
    "\n",
    "def get_first_thousand_words(text):\n",
    "    words = re.findall(r'\\b\\w+\\b|[^\\w\\s]', text)\n",
    "    return ' '.join(words[:800])\n",
    "\n",
    "summarizer = pipeline(\"summarization\", model=\"facebook/bart-large-cnn\")\n",
    "summaries = []\n",
    "for i in l:\n",
    "    i = get_first_thousand_words(i)\n",
    "\n",
    "    summaries.append(summarizer(i, max_length=300, min_length=100))\n",
    "\n",
    "summariesText = [i[0][\"summary_text\"] for i in summaries]"
   ]
  },
  {
   "cell_type": "code",
   "execution_count": 40,
   "id": "d9b1e59b-5a00-4042-ba15-cb542b52181e",
   "metadata": {},
   "outputs": [
    {
     "data": {
      "text/plain": [
       "['https://www.theverge.com//2023/3/24/23653377/ai-chatbots-comparison-bard-bing-chatgpt-gpt-4',\n",
       " 'https://www.theverge.com//23630167/pacific-crest-trail-hiking-backpacking-gear-2600-miles',\n",
       " 'https://www.theverge.com//2023/3/24/23654817/energy-efficiency-standards-doe-window-ac-air-purifier',\n",
       " 'https://www.theverge.com//2023/3/24/23655071/ford-electric-truck-next-gen-project-t3-blueoval-city',\n",
       " 'https://www.theverge.com//2023/3/24/23654710/ps5-xbox-console-resident-evil-jabra-elite-active-deal-sale']"
      ]
     },
     "execution_count": 40,
     "metadata": {},
     "output_type": "execute_result"
    }
   ],
   "source": [
    "links"
   ]
  },
  {
   "cell_type": "code",
   "execution_count": 2,
   "id": "5b7138f1-71f3-4b85-8934-8e00f721df77",
   "metadata": {
    "tags": []
   },
   "outputs": [
    {
     "data": {
      "text/plain": [
       "['The chatbots are out in force , but which is better and for what task ? We ’ve compared Google ’ s Bard, Microsoft’s Bing , and OpenAI ’s ChatGPT models with a range of questions. These questions span common requests from holiday tips to gaming advice to mortgage calculations. Bing is the winner here , but mainly because it picks one accurate hint ( Malenia is vulnerable to bleed damage ) and repeats it like Garth Marenghi doing a book reading. Bard is the only one to offer any help withMalenia ’S hellish Waterfowl Dance move ( although I don’t think it is the strongest strategy ) or advice for using a specific item.',\n",
       " 'The Pacific Crest Trail spans around 2 , 650 miles through California, Oregon, and Washington. Hikers attempting to “ thru - hike ” a trail need to pack the gear necessary to stay alive. At roughly 11 pounds, my pack is way too heavy for the true ultralight purists. It omits some comfort items — a pillow, camp shoes, sleep clothes , and a midlayer / fleece — that more traditional backpackers would consider essential. The truest compromise is the one where everyone makes fun of you .',\n",
       " 'The new rules are expected to cut consumer electricity bills by $ 1 . 5 billion a year. This is also the first time the DOE has issued federal efficiency standards for portable air purifiers. The new federal standards will go into effect in 2024 and will result in 27 percent energy savings. The DOE expects its new rules to reduce carbon dioxide emissions by 106 million metric tons over three decades. That avoids about as much climate pollution annually as roughly 13 . 4 million homes in a year . Ironically, air conditioners ( as long as they ’ re hooked up to power grids running on dirty energy ) are adding to the pollution causing climate change.',\n",
       " 'Ford provided an update Friday on the construction of its massive new EV manufacturing complex in western Tennessee. Ford says it will build its next electric truck , codenamed “ Project T3 . ” The so - called BlueOval City campus won’t come online until 2025, but Ford has said it will be a “ mega campus ’ Ford plans to build 500 , 000 electric trucks a year at the BlueOv City complex, with production set to kick off within 30 months.',\n",
       " 'The Sony PlayStation 5 console bundle with God of War Ragnarök is on sale for $ 509 at Walmart. The Xbox Series X is available in a bundle with the Xbox Elite Series 2 controller for $ 579 . 98 from Verizon. Eneba is selling the PC version of Resident Evil 4 for $ 44 . 99 after fees when you use code RE4US until March 27th at 7AM ET. The new remake of the 2005 classic is a massive graphical overhaul that stays true to its horror roots.']"
      ]
     },
     "execution_count": 2,
     "metadata": {},
     "output_type": "execute_result"
    }
   ],
   "source": [
    "summariesText"
   ]
  },
  {
   "cell_type": "code",
   "execution_count": 59,
   "id": "0fa45e98-bb1c-4073-8f50-7e282cccc157",
   "metadata": {},
   "outputs": [],
   "source": [
    "import sqlite3\n",
    "\n",
    "conn.close()\n",
    "conn = None\n",
    "\n",
    "\n",
    "# Connect to the database\n",
    "conn = sqlite3.connect('NewsSummarizer.db')\n",
    "\n",
    "# Create a cursor object to execute SQL commands\n",
    "cursor = conn.cursor()\n",
    "\n",
    "# Delete all existing rows from the 'verge' table\n",
    "sql_command = \"DELETE FROM verge\"\n",
    "cursor.execute(sql_command)\n",
    "\n",
    "# SQL command to insert sample data into the 'verge' table\n",
    "sql_command = \"INSERT INTO verge (summary, link) VALUES (?, ?)\"\n",
    "\n",
    "# Execute the SQL command for each row of sample data\n",
    "for i in range(len(summariesText)):\n",
    "    row = (str(summariesText[i])[2:-3], links[i],)\n",
    "    cursor.execute(sql_command, row)\n",
    "\n",
    "# Commit the changes to the database\n",
    "conn.commit()\n",
    "\n",
    "# Close the database connection\n",
    "conn.close()\n"
   ]
  },
  {
   "cell_type": "code",
   "execution_count": 25,
   "id": "1e944193-a327-4e28-81da-92917195766b",
   "metadata": {},
   "outputs": [
    {
     "data": {
      "text/plain": [
       "[('The chatbots are out in force , but which is better and for what task ? We ’ve compared Google ’ s Bard, Microsoft’s Bing , and OpenAI ’s ChatGPT models with a range of questions. These questions span common requests from holiday tips to gaming advice to mortgage calculations. Bing is the winner here , but mainly because it picks one accurate hint ( Malenia is vulnerable to bleed damage ) and repeats it like Garth Marenghi doing a book reading. Bard is the only one to offer any help withMalenia ’S hellish Waterfowl Dance move ( although I don’t think it is the strongest strategy ) or advice for using a specific item.',),\n",
       " ('The Pacific Crest Trail spans around 2 , 650 miles through California, Oregon, and Washington. Hikers attempting to “ thru - hike ” a trail need to pack the gear necessary to stay alive. At roughly 11 pounds, my pack is way too heavy for the true ultralight purists. It omits some comfort items — a pillow, camp shoes, sleep clothes , and a midlayer / fleece — that more traditional backpackers would consider essential. The truest compromise is the one where everyone makes fun of you .',),\n",
       " ('The new rules are expected to cut consumer electricity bills by $ 1 . 5 billion a year. This is also the first time the DOE has issued federal efficiency standards for portable air purifiers. The new federal standards will go into effect in 2024 and will result in 27 percent energy savings. The DOE expects its new rules to reduce carbon dioxide emissions by 106 million metric tons over three decades. That avoids about as much climate pollution annually as roughly 13 . 4 million homes in a year . Ironically, air conditioners ( as long as they ’ re hooked up to power grids running on dirty energy ) are adding to the pollution causing climate change.',),\n",
       " ('Ford provided an update Friday on the construction of its massive new EV manufacturing complex in western Tennessee. Ford says it will build its next electric truck , codenamed “ Project T3 . ” The so - called BlueOval City campus won’t come online until 2025, but Ford has said it will be a “ mega campus ’ Ford plans to build 500 , 000 electric trucks a year at the BlueOv City complex, with production set to kick off within 30 months.',),\n",
       " ('The Sony PlayStation 5 console bundle with God of War Ragnarök is on sale for $ 509 at Walmart. The Xbox Series X is available in a bundle with the Xbox Elite Series 2 controller for $ 579 . 98 from Verizon. Eneba is selling the PC version of Resident Evil 4 for $ 44 . 99 after fees when you use code RE4US until March 27th at 7AM ET. The new remake of the 2005 classic is a massive graphical overhaul that stays true to its horror roots.',)]"
      ]
     },
     "execution_count": 25,
     "metadata": {},
     "output_type": "execute_result"
    }
   ],
   "source": [
    "summariesText"
   ]
  },
  {
   "cell_type": "code",
   "execution_count": 60,
   "id": "83eb87a5-b3c3-43c6-87bd-15b9fbf68616",
   "metadata": {},
   "outputs": [
    {
     "name": "stdout",
     "output_type": "stream",
     "text": [
      "Available tables:\n",
      "verge\n"
     ]
    }
   ],
   "source": [
    "import sqlite3\n",
    "\n",
    "# Connect to the database\n",
    "conn = sqlite3.connect('NewsSummarizer.db')\n",
    "\n",
    "# Create a cursor object to execute SQL commands\n",
    "cursor = conn.cursor()\n",
    "\n",
    "# SQL command to select table names\n",
    "sql_command = \"SELECT name FROM sqlite_master WHERE type='table';\"\n",
    "\n",
    "# Execute the SQL command\n",
    "cursor.execute(sql_command)\n",
    "\n",
    "# Fetch all the table names as a list of tuples\n",
    "table_names = cursor.fetchall()\n",
    "\n",
    "# Print the table names\n",
    "print(\"Available tables:\")\n",
    "for table in table_names:\n",
    "    print(table[0])\n",
    "\n",
    "# Close the database connection\n",
    "conn.close()\n"
   ]
  },
  {
   "cell_type": "code",
   "execution_count": 80,
   "id": "c1947c19-9d9b-49c2-867e-af9835c4b755",
   "metadata": {},
   "outputs": [],
   "source": [
    "# Connect to the database\n",
    "conn = sqlite3.connect('NewsSummarizer.db')\n",
    "\n",
    "# Create a cursor object to execute SQL commands\n",
    "cursor = conn.cursor()\n",
    "\n",
    "# Select all rows from the 'verge' table\n",
    "sql_command = \"SELECT * FROM verge\"\n",
    "cursor.execute(sql_command)\n",
    "\n",
    "summaries_final = []\n",
    "links_final = []\n",
    "# Fetch all rows and print them\n",
    "rows = cursor.fetchall()\n",
    "for row in rows:\n",
    "    summaries_final.append(row[0])\n",
    "    links_final.append(row[1])    \n",
    "\n",
    "# Close the database connection\n",
    "conn.close()\n"
   ]
  },
  {
   "cell_type": "code",
   "execution_count": 81,
   "id": "8a828c29-0fef-4c4f-b9cd-0339865cf335",
   "metadata": {},
   "outputs": [
    {
     "data": {
      "text/plain": [
       "['The chatbots are out in force , but which is better and for what task ? We ’ve compared Google ’ s Bard, Microsoft’s Bing , and OpenAI ’s ChatGPT models with a range of questions. These questions span common requests from holiday tips to gaming advice to mortgage calculations. Bing is the winner here , but mainly because it picks one accurate hint ( Malenia is vulnerable to bleed damage ) and repeats it like Garth Marenghi doing a book reading. Bard is the only one to offer any help withMalenia ’S hellish Waterfowl Dance move ( although I don’t think it is the strongest strategy ) or advice for using a specific item.',\n",
       " 'The Pacific Crest Trail spans around 2 , 650 miles through California, Oregon, and Washington. Hikers attempting to “ thru - hike ” a trail need to pack the gear necessary to stay alive. At roughly 11 pounds, my pack is way too heavy for the true ultralight purists. It omits some comfort items — a pillow, camp shoes, sleep clothes , and a midlayer / fleece — that more traditional backpackers would consider essential. The truest compromise is the one where everyone makes fun of you .',\n",
       " 'The new rules are expected to cut consumer electricity bills by $ 1 . 5 billion a year. This is also the first time the DOE has issued federal efficiency standards for portable air purifiers. The new federal standards will go into effect in 2024 and will result in 27 percent energy savings. The DOE expects its new rules to reduce carbon dioxide emissions by 106 million metric tons over three decades. That avoids about as much climate pollution annually as roughly 13 . 4 million homes in a year . Ironically, air conditioners ( as long as they ’ re hooked up to power grids running on dirty energy ) are adding to the pollution causing climate change.',\n",
       " 'Ford provided an update Friday on the construction of its massive new EV manufacturing complex in western Tennessee. Ford says it will build its next electric truck , codenamed “ Project T3 . ” The so - called BlueOval City campus won’t come online until 2025, but Ford has said it will be a “ mega campus ’ Ford plans to build 500 , 000 electric trucks a year at the BlueOv City complex, with production set to kick off within 30 months.',\n",
       " 'The Sony PlayStation 5 console bundle with God of War Ragnarök is on sale for $ 509 at Walmart. The Xbox Series X is available in a bundle with the Xbox Elite Series 2 controller for $ 579 . 98 from Verizon. Eneba is selling the PC version of Resident Evil 4 for $ 44 . 99 after fees when you use code RE4US until March 27th at 7AM ET. The new remake of the 2005 classic is a massive graphical overhaul that stays true to its horror roots.']"
      ]
     },
     "execution_count": 81,
     "metadata": {},
     "output_type": "execute_result"
    }
   ],
   "source": [
    "summaries_final"
   ]
  },
  {
   "cell_type": "code",
   "execution_count": 67,
   "id": "078d81a2-6ed5-4a36-a7ab-22f9135b198a",
   "metadata": {},
   "outputs": [],
   "source": [
    "summaries = []\n",
    "links = []\n",
    "for i in fromDB:\n",
    "    summaries.append(i[0])\n",
    "    links.append(i[1])"
   ]
  },
  {
   "cell_type": "code",
   "execution_count": 71,
   "id": "4763ebad-fcee-4e7c-b539-12ecd939112f",
   "metadata": {},
   "outputs": [
    {
     "data": {
      "text/plain": [
       "['https://www.theverge.com//2023/3/24/23653377/ai-chatbots-comparison-bard-bing-chatgpt-gpt-4',\n",
       " 'https://www.theverge.com//23630167/pacific-crest-trail-hiking-backpacking-gear-2600-miles',\n",
       " 'https://www.theverge.com//2023/3/24/23654817/energy-efficiency-standards-doe-window-ac-air-purifier',\n",
       " 'https://www.theverge.com//2023/3/24/23655071/ford-electric-truck-next-gen-project-t3-blueoval-city',\n",
       " 'https://www.theverge.com//2023/3/24/23654710/ps5-xbox-console-resident-evil-jabra-elite-active-deal-sale']"
      ]
     },
     "execution_count": 71,
     "metadata": {},
     "output_type": "execute_result"
    }
   ],
   "source": [
    "links"
   ]
  },
  {
   "cell_type": "code",
   "execution_count": null,
   "id": "1521e944-9aa4-45c5-848c-5f1a9ea9b677",
   "metadata": {},
   "outputs": [],
   "source": []
  }
 ],
 "metadata": {
  "kernelspec": {
   "display_name": "Python 3 (ipykernel)",
   "language": "python",
   "name": "python3"
  },
  "language_info": {
   "codemirror_mode": {
    "name": "ipython",
    "version": 3
   },
   "file_extension": ".py",
   "mimetype": "text/x-python",
   "name": "python",
   "nbconvert_exporter": "python",
   "pygments_lexer": "ipython3",
   "version": "3.11.0"
  }
 },
 "nbformat": 4,
 "nbformat_minor": 5
}
